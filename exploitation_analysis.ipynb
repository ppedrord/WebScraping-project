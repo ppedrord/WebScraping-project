{
 "cells": [
  {
   "cell_type": "code",
   "execution_count": 1,
   "id": "7a56b333-c5d5-404c-99d8-4bcb2dc1e397",
   "metadata": {},
   "outputs": [],
   "source": [
    "import pandas as pd # Pandas"
   ]
  },
  {
   "cell_type": "code",
   "execution_count": 2,
   "id": "cfad9d28-9640-42b6-9e13-cace31f5f99b",
   "metadata": {},
   "outputs": [],
   "source": [
    "import numpy as np # NumPy"
   ]
  },
  {
   "cell_type": "code",
   "execution_count": 3,
   "id": "e0dfcfd9-9499-4303-8044-50599872f28e",
   "metadata": {},
   "outputs": [],
   "source": [
    "import matplotlib.pyplot as plt # MatPlotLib"
   ]
  },
  {
   "cell_type": "code",
   "execution_count": 4,
   "id": "305b9159-755d-422c-8fdf-91b93d0a04da",
   "metadata": {},
   "outputs": [],
   "source": [
    "import seaborn as sns # Seaborn"
   ]
  },
  {
   "cell_type": "code",
   "execution_count": 5,
   "id": "0df39794-c522-403f-b4d8-aa57b9d731a7",
   "metadata": {},
   "outputs": [],
   "source": [
    "import pickle # Pickle"
   ]
  },
  {
   "cell_type": "markdown",
   "id": "1b3b9ec2-4af9-45b9-b9b9-09f56594cbb8",
   "metadata": {},
   "source": [
    "<h2>Reading the pickle file that contains the data</h2>"
   ]
  },
  {
   "cell_type": "code",
   "execution_count": 6,
   "id": "b4685e9e-4724-43ae-8f01-fb1252b4e1fd",
   "metadata": {},
   "outputs": [],
   "source": [
    "with open('movie_data_limited_all_collection_updated.p', 'rb') as movies_file:\n",
    "    movies = pickle.load(movies_file)"
   ]
  },
  {
   "cell_type": "markdown",
   "id": "933e8340-ad88-4f87-897c-8c28b28adb77",
   "metadata": {
    "tags": []
   },
   "source": [
    "<h2>Defining series</h2>"
   ]
  },
  {
   "cell_type": "code",
   "execution_count": 7,
   "id": "70518e82-6187-4f99-bb13-2db2a5092171",
   "metadata": {},
   "outputs": [],
   "source": [
    "series = pd.Series(movies)"
   ]
  },
  {
   "cell_type": "markdown",
   "id": "95406318-fea6-46f2-b1e3-d6744eb439f6",
   "metadata": {},
   "source": [
    "<h2>DataFrame</h2>"
   ]
  },
  {
   "cell_type": "code",
   "execution_count": 8,
   "id": "0478d3b5-edf4-4b2d-959f-ad9a4177e4a1",
   "metadata": {},
   "outputs": [],
   "source": [
    "df = pd.DataFrame(movies)"
   ]
  },
  {
   "cell_type": "code",
   "execution_count": 9,
   "id": "6c66d6b1-7685-428b-a6c3-c907c0e02ddd",
   "metadata": {},
   "outputs": [
    {
     "data": {
      "text/plain": [
       "<AxesSubplot:>"
      ]
     },
     "execution_count": 9,
     "metadata": {},
     "output_type": "execute_result"
    },
    {
     "data": {
      "image/png": "[encoded data removed]",
      "text/plain": [
       "<Figure size 1440x216 with 1 Axes>"
      ]
     },
     "metadata": {
      "needs_background": "light"
     },
     "output_type": "display_data"
    }
   ],
   "source": [
    "df['imdb_rating'].hist(figsize=(20, 3))"
   ]
  },
  {
   "cell_type": "code",
   "execution_count": 10,
   "id": "a8cf6e6f-2e4f-4c27-aec0-dc69e0491f4d",
   "metadata": {},
   "outputs": [
    {
     "data": {
      "text/html": [
       "<div>\n",
       "<style scoped>\n",
       "    .dataframe tbody tr th:only-of-type {\n",
       "        vertical-align: middle;\n",
       "    }\n",
       "\n",
       "    .dataframe tbody tr th {\n",
       "        vertical-align: top;\n",
       "    }\n",
       "\n",
       "    .dataframe thead th {\n",
       "        text-align: right;\n",
       "    }\n",
       "</style>\n",
       "<table border=\"1\" class=\"dataframe\">\n",
       "  <thead>\n",
       "    <tr style=\"text-align: right;\">\n",
       "      <th></th>\n",
       "      <th>title</th>\n",
       "      <th>year</th>\n",
       "      <th>certificate</th>\n",
       "      <th>runtime</th>\n",
       "      <th>genre</th>\n",
       "      <th>synopsis</th>\n",
       "      <th>imdb_rating</th>\n",
       "      <th>num_votes</th>\n",
       "      <th>collection</th>\n",
       "      <th>link</th>\n",
       "    </tr>\n",
       "  </thead>\n",
       "  <tbody>\n",
       "    <tr>\n",
       "      <th>0</th>\n",
       "      <td>Batman</td>\n",
       "      <td>2022.0</td>\n",
       "      <td>14</td>\n",
       "      <td>176.0</td>\n",
       "      <td>Action, Crime, Drama</td>\n",
       "      <td>When the Riddler, a sadistic serial killer, b...</td>\n",
       "      <td>8.3</td>\n",
       "      <td>291613.0</td>\n",
       "      <td>NaN</td>\n",
       "      <td>https://www.imdb.com/title/tt1877830/?ref_=adv...</td>\n",
       "    </tr>\n",
       "    <tr>\n",
       "      <th>1</th>\n",
       "      <td>O Projeto Adam</td>\n",
       "      <td>2022.0</td>\n",
       "      <td>12</td>\n",
       "      <td>106.0</td>\n",
       "      <td>Action, Adventure, Comedy</td>\n",
       "      <td>After accidentally crash-landing in 2022, tim...</td>\n",
       "      <td>6.7</td>\n",
       "      <td>106770.0</td>\n",
       "      <td>NaN</td>\n",
       "      <td>https://www.imdb.com/title/tt2463208/?ref_=adv...</td>\n",
       "    </tr>\n",
       "    <tr>\n",
       "      <th>2</th>\n",
       "      <td>Homem-Aranha: Sem Volta para Casa</td>\n",
       "      <td>2021.0</td>\n",
       "      <td>12</td>\n",
       "      <td>148.0</td>\n",
       "      <td>Action, Adventure, Fantasy</td>\n",
       "      <td>With Spider-Man's identity now revealed, Pete...</td>\n",
       "      <td>8.5</td>\n",
       "      <td>558773.0</td>\n",
       "      <td>NaN</td>\n",
       "      <td>https://www.imdb.com/title/tt10872600/?ref_=ad...</td>\n",
       "    </tr>\n",
       "    <tr>\n",
       "      <th>3</th>\n",
       "      <td>Caranguejo Negro</td>\n",
       "      <td>2022.0</td>\n",
       "      <td>18</td>\n",
       "      <td>114.0</td>\n",
       "      <td>Action, Adventure, Drama</td>\n",
       "      <td>In a post-apocalyptic world, six soldiers on ...</td>\n",
       "      <td>5.6</td>\n",
       "      <td>10919.0</td>\n",
       "      <td>NaN</td>\n",
       "      <td>https://www.imdb.com/title/tt6708668/?ref_=adv...</td>\n",
       "    </tr>\n",
       "    <tr>\n",
       "      <th>4</th>\n",
       "      <td>Cidade Perdida</td>\n",
       "      <td>2022.0</td>\n",
       "      <td>PG-13</td>\n",
       "      <td>112.0</td>\n",
       "      <td>Action, Adventure, Comedy</td>\n",
       "      <td>A reclusive romance novelist on a book tour w...</td>\n",
       "      <td>6.7</td>\n",
       "      <td>4036.0</td>\n",
       "      <td>NaN</td>\n",
       "      <td>https://www.imdb.com/title/tt13320622/?ref_=ad...</td>\n",
       "    </tr>\n",
       "    <tr>\n",
       "      <th>...</th>\n",
       "      <td>...</td>\n",
       "      <td>...</td>\n",
       "      <td>...</td>\n",
       "      <td>...</td>\n",
       "      <td>...</td>\n",
       "      <td>...</td>\n",
       "      <td>...</td>\n",
       "      <td>...</td>\n",
       "      <td>...</td>\n",
       "      <td>...</td>\n",
       "    </tr>\n",
       "    <tr>\n",
       "      <th>380710</th>\n",
       "      <td>Bulldog Courage (Remaster)</td>\n",
       "      <td>1935.0</td>\n",
       "      <td>Isn't Available</td>\n",
       "      <td>52.0</td>\n",
       "      <td>Western</td>\n",
       "      <td>A miner who was swindled out of his mine by a...</td>\n",
       "      <td>NaN</td>\n",
       "      <td>NaN</td>\n",
       "      <td>NaN</td>\n",
       "      <td>https://www.imdb.com/title/tt18952796/?ref_=ad...</td>\n",
       "    </tr>\n",
       "    <tr>\n",
       "      <th>380711</th>\n",
       "      <td>Talks to the Wind</td>\n",
       "      <td>NaN</td>\n",
       "      <td>Isn't Available</td>\n",
       "      <td>NaN</td>\n",
       "      <td>Western</td>\n",
       "      <td>Add a Plot</td>\n",
       "      <td>NaN</td>\n",
       "      <td>NaN</td>\n",
       "      <td>NaN</td>\n",
       "      <td>https://www.imdb.com/title/tt6179452/?ref_=adv...</td>\n",
       "    </tr>\n",
       "    <tr>\n",
       "      <th>380712</th>\n",
       "      <td>Band of Rebels</td>\n",
       "      <td>2022.0</td>\n",
       "      <td>Isn't Available</td>\n",
       "      <td>NaN</td>\n",
       "      <td>Western</td>\n",
       "      <td>A group of confederate soldiers uses their un...</td>\n",
       "      <td>NaN</td>\n",
       "      <td>NaN</td>\n",
       "      <td>NaN</td>\n",
       "      <td>https://www.imdb.com/title/tt19063544/?ref_=ad...</td>\n",
       "    </tr>\n",
       "    <tr>\n",
       "      <th>380713</th>\n",
       "      <td>Texas Bad Water</td>\n",
       "      <td>NaN</td>\n",
       "      <td>Isn't Available</td>\n",
       "      <td>NaN</td>\n",
       "      <td>Western</td>\n",
       "      <td>When a young cowboy breaks the rich kid's jaw...</td>\n",
       "      <td>NaN</td>\n",
       "      <td>NaN</td>\n",
       "      <td>NaN</td>\n",
       "      <td>https://www.imdb.com/title/tt19064004/?ref_=ad...</td>\n",
       "    </tr>\n",
       "    <tr>\n",
       "      <th>380714</th>\n",
       "      <td>Escanyapobres</td>\n",
       "      <td>2022.0</td>\n",
       "      <td>Isn't Available</td>\n",
       "      <td>NaN</td>\n",
       "      <td>Western</td>\n",
       "      <td>Add a Plot</td>\n",
       "      <td>NaN</td>\n",
       "      <td>NaN</td>\n",
       "      <td>NaN</td>\n",
       "      <td>https://www.imdb.com/title/tt19177354/?ref_=ad...</td>\n",
       "    </tr>\n",
       "  </tbody>\n",
       "</table>\n",
       "<p>380715 rows × 10 columns</p>\n",
       "</div>"
      ],
      "text/plain": [
       "                                    title    year      certificate  runtime  \\\n",
       "0                                  Batman  2022.0               14    176.0   \n",
       "1                          O Projeto Adam  2022.0               12    106.0   \n",
       "2       Homem-Aranha: Sem Volta para Casa  2021.0               12    148.0   \n",
       "3                        Caranguejo Negro  2022.0               18    114.0   \n",
       "4                          Cidade Perdida  2022.0            PG-13    112.0   \n",
       "...                                   ...     ...              ...      ...   \n",
       "380710         Bulldog Courage (Remaster)  1935.0  Isn't Available     52.0   \n",
       "380711                  Talks to the Wind     NaN  Isn't Available      NaN   \n",
       "380712                     Band of Rebels  2022.0  Isn't Available      NaN   \n",
       "380713                    Texas Bad Water     NaN  Isn't Available      NaN   \n",
       "380714                      Escanyapobres  2022.0  Isn't Available      NaN   \n",
       "\n",
       "                               genre  \\\n",
       "0              Action, Crime, Drama    \n",
       "1         Action, Adventure, Comedy    \n",
       "2        Action, Adventure, Fantasy    \n",
       "3          Action, Adventure, Drama    \n",
       "4         Action, Adventure, Comedy    \n",
       "...                              ...   \n",
       "380710                      Western    \n",
       "380711                      Western    \n",
       "380712                      Western    \n",
       "380713                      Western    \n",
       "380714                      Western    \n",
       "\n",
       "                                                 synopsis  imdb_rating  \\\n",
       "0        When the Riddler, a sadistic serial killer, b...          8.3   \n",
       "1        After accidentally crash-landing in 2022, tim...          6.7   \n",
       "2        With Spider-Man's identity now revealed, Pete...          8.5   \n",
       "3        In a post-apocalyptic world, six soldiers on ...          5.6   \n",
       "4        A reclusive romance novelist on a book tour w...          6.7   \n",
       "...                                                   ...          ...   \n",
       "380710   A miner who was swindled out of his mine by a...          NaN   \n",
       "380711                                        Add a Plot           NaN   \n",
       "380712   A group of confederate soldiers uses their un...          NaN   \n",
       "380713   When a young cowboy breaks the rich kid's jaw...          NaN   \n",
       "380714                                        Add a Plot           NaN   \n",
       "\n",
       "        num_votes  collection  \\\n",
       "0        291613.0         NaN   \n",
       "1        106770.0         NaN   \n",
       "2        558773.0         NaN   \n",
       "3         10919.0         NaN   \n",
       "4          4036.0         NaN   \n",
       "...           ...         ...   \n",
       "380710        NaN         NaN   \n",
       "380711        NaN         NaN   \n",
       "380712        NaN         NaN   \n",
       "380713        NaN         NaN   \n",
       "380714        NaN         NaN   \n",
       "\n",
       "                                                     link  \n",
       "0       https://www.imdb.com/title/tt1877830/?ref_=adv...  \n",
       "1       https://www.imdb.com/title/tt2463208/?ref_=adv...  \n",
       "2       https://www.imdb.com/title/tt10872600/?ref_=ad...  \n",
       "3       https://www.imdb.com/title/tt6708668/?ref_=adv...  \n",
       "4       https://www.imdb.com/title/tt13320622/?ref_=ad...  \n",
       "...                                                   ...  \n",
       "380710  https://www.imdb.com/title/tt18952796/?ref_=ad...  \n",
       "380711  https://www.imdb.com/title/tt6179452/?ref_=adv...  \n",
       "380712  https://www.imdb.com/title/tt19063544/?ref_=ad...  \n",
       "380713  https://www.imdb.com/title/tt19064004/?ref_=ad...  \n",
       "380714  https://www.imdb.com/title/tt19177354/?ref_=ad...  \n",
       "\n",
       "[380715 rows x 10 columns]"
      ]
     },
     "execution_count": 10,
     "metadata": {},
     "output_type": "execute_result"
    }
   ],
   "source": [
    "df"
   ]
  },
  {
   "cell_type": "code",
   "execution_count": 23,
   "id": "cbd950c6-1639-4df9-8f87-f59a739d4350",
   "metadata": {},
   "outputs": [
    {
     "data": {
      "text/plain": [
       "<AxesSubplot:xlabel='year'>"
      ]
     },
     "execution_count": 23,
     "metadata": {},
     "output_type": "execute_result"
    },
    {
     "data": {
      "image/png": "[encoded data removed]",
      "text/plain": [
       "<Figure size 1440x576 with 1 Axes>"
      ]
     },
     "metadata": {
      "needs_background": "light"
     },
     "output_type": "display_data"
    }
   ],
   "source": [
    "df.groupby('year').count().plot(kind='bar', figsize=(20,8))"
   ]
  },
  {
   "cell_type": "code",
   "execution_count": 12,
   "id": "9a1424d6-9cd4-4bfb-a496-bdba0ec94290",
   "metadata": {},
   "outputs": [
    {
     "data": {
      "text/plain": [
       "<AxesSubplot:>"
      ]
     },
     "execution_count": 12,
     "metadata": {},
     "output_type": "execute_result"
    },
    {
     "data": {
      "image/png": "[encoded data removed]",
      "text/plain": [
       "<Figure size 432x288 with 1 Axes>"
      ]
     },
     "metadata": {
      "needs_background": "light"
     },
     "output_type": "display_data"
    }
   ],
   "source": [
    "df['runtime'].hist()"
   ]
  },
  {
   "cell_type": "code",
   "execution_count": 13,
   "id": "e4d18638-d5bd-4f9d-a582-a6098a299b1e",
   "metadata": {},
   "outputs": [
    {
     "data": {
      "text/plain": [
       "count    248823.000000\n",
       "mean         94.510431\n",
       "std          37.230494\n",
       "min           2.000000\n",
       "25%          82.000000\n",
       "50%          91.000000\n",
       "75%         104.000000\n",
       "max       10062.000000\n",
       "Name: runtime, dtype: float64"
      ]
     },
     "execution_count": 13,
     "metadata": {},
     "output_type": "execute_result"
    }
   ],
   "source": [
    "df['runtime'].describe()"
   ]
  },
  {
   "cell_type": "code",
   "execution_count": 14,
   "id": "8e13b9fd-456f-4c4e-ac80-88b4d99d4c10",
   "metadata": {},
   "outputs": [
    {
     "data": {
      "text/plain": [
       "count    2.076140e+05\n",
       "mean     4.536122e+03\n",
       "std      3.869548e+04\n",
       "min      5.000000e+00\n",
       "25%      2.300000e+01\n",
       "50%      8.400000e+01\n",
       "75%      4.440000e+02\n",
       "max      2.566748e+06\n",
       "Name: num_votes, dtype: float64"
      ]
     },
     "execution_count": 14,
     "metadata": {},
     "output_type": "execute_result"
    }
   ],
   "source": [
    "df['num_votes'].describe()"
   ]
  },
  {
   "cell_type": "code",
   "execution_count": 15,
   "id": "848ce6d2-c26d-4a60-abf1-a80dbb713a4d",
   "metadata": {},
   "outputs": [
    {
     "data": {
      "text/plain": [
       "<AxesSubplot:>"
      ]
     },
     "execution_count": 15,
     "metadata": {},
     "output_type": "execute_result"
    },
    {
     "data": {
      "image/png": "[encoded data removed]",
      "text/plain": [
       "<Figure size 432x288 with 1 Axes>"
      ]
     },
     "metadata": {
      "needs_background": "light"
     },
     "output_type": "display_data"
    }
   ],
   "source": [
    "df['num_votes'].hist()"
   ]
  },
  {
   "cell_type": "code",
   "execution_count": 16,
   "id": "9991d90d-5bfe-4e22-957a-94425498fa08",
   "metadata": {},
   "outputs": [
    {
     "data": {
      "text/plain": [
       "count    1.510600e+04\n",
       "mean     2.003683e+07\n",
       "std      4.848215e+07\n",
       "min      1.000000e+00\n",
       "25%      1.437410e+05\n",
       "50%      1.792664e+06\n",
       "75%      1.779825e+07\n",
       "max      9.366622e+08\n",
       "Name: collection, dtype: float64"
      ]
     },
     "execution_count": 16,
     "metadata": {},
     "output_type": "execute_result"
    }
   ],
   "source": [
    "df['collection'].describe()"
   ]
  },
  {
   "cell_type": "code",
   "execution_count": 17,
   "id": "44b9ee18-afee-49d5-b55b-c3cad297eb5e",
   "metadata": {},
   "outputs": [
    {
     "data": {
      "text/plain": [
       "<AxesSubplot:>"
      ]
     },
     "execution_count": 17,
     "metadata": {},
     "output_type": "execute_result"
    },
    {
     "data": {
      "image/png": "[encoded data removed]",
      "text/plain": [
       "<Figure size 432x288 with 1 Axes>"
      ]
     },
     "metadata": {
      "needs_background": "light"
     },
     "output_type": "display_data"
    }
   ],
   "source": [
    "df['collection'].hist()"
   ]
  },
  {
   "cell_type": "code",
   "execution_count": null,
   "id": "1d56e8ef-c5f3-4938-b460-9a09e645e7ee",
   "metadata": {},
   "outputs": [],
   "source": []
  },
  {
   "cell_type": "code",
   "execution_count": null,
   "id": "6395554a-c30e-43bd-9af9-97e4c3b24f21",
   "metadata": {},
   "outputs": [],
   "source": []
  },
  {
   "cell_type": "code",
   "execution_count": null,
   "id": "08dec0eb-d3fd-4c4f-8c9f-c94bf1f4489c",
   "metadata": {},
   "outputs": [],
   "source": []
  }
 ],
 "metadata": {
  "kernelspec": {
   "display_name": "Python 3 (ipykernel)",
   "language": "python",
   "name": "python3"
  },
  "language_info": {
   "codemirror_mode": {
    "name": "ipython",
    "version": 3
   },
   "file_extension": ".py",
   "mimetype": "text/x-python",
   "name": "python",
   "nbconvert_exporter": "python",
   "pygments_lexer": "ipython3",
   "version": "3.10.0"
  }
 },
 "nbformat": 4,
 "nbformat_minor": 5
}
